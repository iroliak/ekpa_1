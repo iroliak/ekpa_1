{
  "nbformat": 4,
  "nbformat_minor": 0,
  "metadata": {
    "colab": {
      "provenance": [],
      "authorship_tag": "ABX9TyPwTGPyvyh4rrZP9zE/lgoI",
      "include_colab_link": true
    },
    "kernelspec": {
      "name": "python3",
      "display_name": "Python 3"
    },
    "language_info": {
      "name": "python"
    }
  },
  "cells": [
    {
      "cell_type": "markdown",
      "metadata": {
        "id": "view-in-github",
        "colab_type": "text"
      },
      "source": [
        "<a href=\"https://colab.research.google.com/github/iroliak/ekpa_1/blob/main/DarkNet.ipynb\" target=\"_parent\"><img src=\"https://colab.research.google.com/assets/colab-badge.svg\" alt=\"Open In Colab\"/></a>"
      ]
    },
    {
      "cell_type": "markdown",
      "source": [
        "## Πρακτική Εφαρμογή: Ανίχνευση Απειλών και Ανωμαλιών στο Σκοτεινό Διαδίκτυο"
      ],
      "metadata": {
        "id": "WIPRFl4m-lC9"
      }
    },
    {
      "cell_type": "markdown",
      "source": [
        "## Εισαγωγή"
      ],
      "metadata": {
        "id": "tVRK23x7-n_l"
      }
    },
    {
      "cell_type": "markdown",
      "source": [
        "Η πρακτική εφαρμογή εστιάζει στους τρόπους με τους οποίους μπορούν τα ευφυή συστήματα ΤΝ και οι αλγόριθμοι μηχανικής μάθησης να χρησιμοποιηθούν για την υλοποίηση μηχανισμών ενεργητικής ασφάλειας που μπορούν να θωρακίσουν τα σύγχρονα πληροφοριακά συστήματα."
      ],
      "metadata": {
        "id": "bC_3r0wR-snr"
      }
    },
    {
      "cell_type": "markdown",
      "source": [
        "## Μεθοδολογία"
      ],
      "metadata": {
        "id": "XnzXQHqp-wBr"
      }
    },
    {
      "cell_type": "markdown",
      "source": [
        "### Φόρτωση και Προεπεξεργασία Δεδομένων"
      ],
      "metadata": {
        "id": "UsjzEfzo-zad"
      }
    },
    {
      "cell_type": "code",
      "execution_count": null,
      "metadata": {
        "colab": {
          "base_uri": "https://localhost:8080/"
        },
        "id": "R_NLOiOO5hzD",
        "outputId": "0aade9e7-e32c-462e-8656-ff85602eb094"
      },
      "outputs": [
        {
          "output_type": "stream",
          "name": "stdout",
          "text": [
            "          Src_IP  Src_Port          Dst_IP  Dst_Port  Protocol  Flow_Duration  \\\n",
            "0  10.152.152.11     57158   216.58.220.99       443         6            229   \n",
            "1  10.152.152.11     57159   216.58.220.99       443         6            407   \n",
            "2  10.152.152.11     57160   216.58.220.99       443         6            431   \n",
            "3  10.152.152.11     49134  74.125.136.120       443         6            359   \n",
            "4  10.152.152.11     34697  173.194.65.127     19305         6       10778451   \n",
            "\n",
            "   Total_Fwd_Packet  Total_Bwd_packets  Total_Length_of_Fwd_Packet  \\\n",
            "0                 1                  1                           0   \n",
            "1                 1                  1                           0   \n",
            "2                 1                  1                           0   \n",
            "3                 1                  1                           0   \n",
            "4               591                400                       64530   \n",
            "\n",
            "   Total_Length_of_Bwd_Packet  ...  Active_Mean  Active_Std  Active_Max  \\\n",
            "0                           0  ...            0           0           0   \n",
            "1                           0  ...            0           0           0   \n",
            "2                           0  ...            0           0           0   \n",
            "3                           0  ...            0           0           0   \n",
            "4                        6659  ...            0           0           0   \n",
            "\n",
            "   Active_Min         Idle_Mean     Idle_Std          Idle_Max  \\\n",
            "0           0                 0        0.000                 0   \n",
            "1           0                 0        0.000                 0   \n",
            "2           0                 0        0.000                 0   \n",
            "3           0                 0        0.000                 0   \n",
            "4           0  1437760000000000  3117718.131  1437760000000000   \n",
            "\n",
            "           Idle_Min  Label-1          Label-2  \n",
            "0                 0  Non-Tor  AUDIO-STREAMING  \n",
            "1                 0  Non-Tor  AUDIO-STREAMING  \n",
            "2                 0  Non-Tor  AUDIO-STREAMING  \n",
            "3                 0  Non-Tor  AUDIO-STREAMING  \n",
            "4  1437760000000000  Non-Tor  AUDIO-STREAMING  \n",
            "\n",
            "[5 rows x 83 columns]\n"
          ]
        },
        {
          "output_type": "stream",
          "name": "stderr",
          "text": [
            "<ipython-input-3-9a6f0510b17c>:5: DtypeWarning: Columns (18) have mixed types. Specify dtype option on import or set low_memory=False.\n",
            "  data = pd.read_csv(url)\n"
          ]
        }
      ],
      "source": [
        "import pandas as pd\n",
        "\n",
        "# Φόρτωση δεδομένων\n",
        "url = \"https://raw.githubusercontent.com/kdemertzis/EKPA/main/Data/DarkNet.csv\"\n",
        "data = pd.read_csv(url)\n",
        "\n",
        "# Εμφάνιση πρώτων γραμμών του dataset\n",
        "print(data.head())\n"
      ]
    },
    {
      "cell_type": "markdown",
      "source": [
        "### Εξερευνητική Ανάλυση Δεδομένων"
      ],
      "metadata": {
        "id": "LZjILgaP-6QT"
      }
    },
    {
      "cell_type": "code",
      "source": [
        "# Εντοπισμός ελλιπών τιμών\n",
        "missing_values = data.isnull().sum()\n",
        "\n",
        "# Εμφάνιση στηλών με ελλιπείς τιμές\n",
        "missing_values[missing_values > 0]\n"
      ],
      "metadata": {
        "colab": {
          "base_uri": "https://localhost:8080/"
        },
        "id": "d_1VtUfX66xt",
        "outputId": "1f4a663b-2aeb-4dd6-bc33-de6fe0e66be5"
      },
      "execution_count": null,
      "outputs": [
        {
          "output_type": "execute_result",
          "data": {
            "text/plain": [
              "Series([], dtype: int64)"
            ]
          },
          "metadata": {},
          "execution_count": 5
        }
      ]
    },
    {
      "cell_type": "markdown",
      "source": [
        "### Δημιουργία και Εκπαίδευση Μοντέλων"
      ],
      "metadata": {
        "id": "6nCSGOXZ_AnI"
      }
    },
    {
      "cell_type": "code",
      "source": [
        "import numpy as np\n",
        "\n",
        "# Έλεγχος για απείρως μεγάλες τιμές\n",
        "numerical_columns = data.select_dtypes(include=['float64', 'int64']).columns\n",
        "infinite_values = data[numerical_columns].isin([np.inf, -np.inf]).sum()\n",
        "\n",
        "# Εμφάνιση στηλών με απείρως μεγάλες τιμές\n",
        "infinite_values[infinite_values > 0]\n"
      ],
      "metadata": {
        "colab": {
          "base_uri": "https://localhost:8080/"
        },
        "id": "sRtCRDpG7AW6",
        "outputId": "02d72f57-baa5-4f01-aedf-1e01924619ca"
      },
      "execution_count": null,
      "outputs": [
        {
          "output_type": "execute_result",
          "data": {
            "text/plain": [
              "Flow_Packets/s    49\n",
              "dtype: int64"
            ]
          },
          "metadata": {},
          "execution_count": 9
        }
      ]
    },
    {
      "cell_type": "code",
      "source": [
        "from sklearn.model_selection import train_test_split\n",
        "\n",
        "# Διαχωρισμός σε σύνολα εκπαίδευσης και δοκιμής\n",
        "X = data.drop(columns=['Label-1', 'Label-2'])\n",
        "y = data['Label-1']\n",
        "X_train, X_test, y_train, y_test = train_test_split(X, y, test_size=0.3, random_state=42)\n",
        "\n",
        "# Εμφάνιση του διαμορφωμένου dataset\n",
        "X_train.head(), y_train.head()\n"
      ],
      "metadata": {
        "colab": {
          "base_uri": "https://localhost:8080/"
        },
        "id": "BI4LxCZn7fbC",
        "outputId": "2ce6e8fb-1260-4385-e341-d3363f460e98"
      },
      "execution_count": null,
      "outputs": [
        {
          "output_type": "execute_result",
          "data": {
            "text/plain": [
              "(              Src_IP  Src_Port         Dst_IP  Dst_Port  Protocol  \\\n",
              " 41605  10.152.152.11 -1.584368  178.65.230.88  2.495546  1.078884   \n",
              " 34682     10.8.8.130  0.870768   129.98.43.99  0.484143 -0.893271   \n",
              " 23701      10.0.2.15  0.479050  74.125.207.16 -0.679192 -0.893271   \n",
              " 37430  10.152.152.11  0.083921   108.219.11.8  0.746394 -0.893271   \n",
              " 27423   54.93.145.72 -2.050625  10.152.152.11  1.129396 -0.893271   \n",
              " \n",
              "        Flow_Duration  Total_Fwd_Packet  Total_Bwd_packets  \\\n",
              " 41605      -0.365264         -0.084829          -0.058447   \n",
              " 34682       1.890850         -0.072479          -0.050857   \n",
              " 23701      -0.594290         -0.085123          -0.058447   \n",
              " 37430      -0.580071         -0.084829          -0.057832   \n",
              " 27423      -0.594292         -0.085417          -0.058242   \n",
              " \n",
              "        Total_Length_of_Fwd_Packet  Total_Length_of_Bwd_Packet  ...  \\\n",
              " 41605                   -0.048994                   -0.037097  ...   \n",
              " 34682                   -0.048939                   -0.036534  ...   \n",
              " 23701                   -0.049000                   -0.037097  ...   \n",
              " 37430                   -0.048992                   -0.037097  ...   \n",
              " 27423                   -0.049006                   -0.037097  ...   \n",
              " \n",
              "        Fwd_Act_Data_Pkts  Fwd_Seg_Size_Min  Active_Mean  Active_Std  \\\n",
              " 41605          -0.082471         -0.929247          0.0         0.0   \n",
              " 34682          -0.075395          2.037201          0.0         0.0   \n",
              " 23701          -0.083355          0.553977          0.0         0.0   \n",
              " 37430          -0.082913          0.553977          0.0         0.0   \n",
              " 27423          -0.083355          0.553977          0.0         0.0   \n",
              " \n",
              "        Active_Max  Active_Min  Idle_Mean  Idle_Std  Idle_Max  Idle_Min  \n",
              " 41605         0.0         0.0   1.183130 -0.267969  1.116637  1.310587  \n",
              " 34682         0.0         0.0   1.150459 -0.267969  1.084855  1.277907  \n",
              " 23701         0.0         0.0  -0.901823 -0.267969 -0.911600 -0.775039  \n",
              " 37430         0.0         0.0   1.183115 -0.267969  1.116623  1.310573  \n",
              " 27423         0.0         0.0  -0.901823 -0.267969 -0.911600 -0.775039  \n",
              " \n",
              " [5 rows x 81 columns],\n",
              " 41605    0\n",
              " 34682    3\n",
              " 23701    1\n",
              " 37430    0\n",
              " 27423    0\n",
              " Name: Label-1, dtype: int8)"
            ]
          },
          "metadata": {},
          "execution_count": 11
        }
      ]
    },
    {
      "cell_type": "code",
      "source": [
        "# Αφαίρεση των στηλών Src_IP και Dst_IP\n",
        "X = data.drop(columns=['Label-1', 'Label-2', 'Src_IP', 'Dst_IP'])\n",
        "\n",
        "# Διαχωρισμός σε σύνολα εκπαίδευσης και δοκιμής\n",
        "X_train, X_test, y_train, y_test = train_test_split(X, y, test_size=0.3, random_state=42)\n",
        "\n",
        "# Δημιουργία και εκπαίδευση του μοντέλου Random Forest\n",
        "rf_model = RandomForestClassifier(n_estimators=100, random_state=42)\n",
        "rf_model.fit(X_train, y_train)\n",
        "\n",
        "# Πρόβλεψη στο σύνολο δοκιμής\n",
        "y_pred = rf_model.predict(X_test)\n",
        "\n",
        "# Αξιολόγηση του μοντέλου\n",
        "confusion_mtx = confusion_matrix(y_test, y_pred)\n",
        "class_report = classification_report(y_test, y_pred)\n",
        "\n",
        "confusion_mtx, class_report\n"
      ],
      "metadata": {
        "colab": {
          "base_uri": "https://localhost:8080/"
        },
        "id": "yjvNfNOl7ozP",
        "outputId": "4e5d4280-c92e-4481-b193-44a67d7ce4fa"
      },
      "execution_count": 15,
      "outputs": [
        {
          "output_type": "execute_result",
          "data": {
            "text/plain": [
              "(array([[9227,    4,    0,   12],\n",
              "        [   4, 6618,    5,  135],\n",
              "        [   3,   42,  374,    1],\n",
              "        [   7,  324,    2, 3802]]),\n",
              " '              precision    recall  f1-score   support\\n\\n           0       1.00      1.00      1.00      9243\\n           1       0.95      0.98      0.96      6762\\n           2       0.98      0.89      0.93       420\\n           3       0.96      0.92      0.94      4135\\n\\n    accuracy                           0.97     20560\\n   macro avg       0.97      0.95      0.96     20560\\nweighted avg       0.97      0.97      0.97     20560\\n')"
            ]
          },
          "metadata": {},
          "execution_count": 15
        }
      ]
    },
    {
      "cell_type": "markdown",
      "source": [
        "              precision    recall  f1-score   support\n",
        "\n",
        "           0       1.00      1.00      1.00      9243\n",
        "           1       0.95      0.98      0.96      6762\n",
        "           2       0.98      0.89      0.93       420\n",
        "           3       0.96      0.92      0.94      4135\n",
        "\n",
        "    accuracy                           0.97     20560\n",
        "   macro avg       0.97      0.95      0.96     20560\n",
        "weighted avg       0.97      0.97      0.97     20560\n",
        "\n",
        "Το μοντέλο παρουσιάζει υψηλή ακρίβεια (97%) και ισορροπημένη απόδοση μεταξύ των κατηγοριών."
      ],
      "metadata": {
        "id": "8UYweBU88DmG"
      }
    },
    {
      "cell_type": "markdown",
      "source": [
        "### Isolation Forest"
      ],
      "metadata": {
        "id": "6MOTvscd_GTn"
      }
    },
    {
      "cell_type": "code",
      "source": [
        "from sklearn.ensemble import IsolationForest\n",
        "\n",
        "# Δημιουργία και εκπαίδευση του μοντέλου Isolation Forest\n",
        "iso_forest = IsolationForest(contamination=0.01, random_state=42)\n",
        "iso_forest.fit(X_train)\n",
        "\n",
        "# Πρόβλεψη ανωμαλιών στο σύνολο δοκιμής\n",
        "y_pred_anomalies = iso_forest.predict(X_test)\n",
        "\n",
        "# Αντικατάσταση των ετικετών με ανωμαλίες (-1) σε 1 και των κανονικών (1) σε 0\n",
        "y_pred_anomalies = [1 if x == -1 else 0 for x in y_pred_anomalies]\n",
        "\n",
        "# Εμφάνιση αποτελεσμάτων\n",
        "print(pd.Series(y_pred_anomalies).value_counts())\n"
      ],
      "metadata": {
        "colab": {
          "base_uri": "https://localhost:8080/"
        },
        "id": "SiIKxKcx8IHZ",
        "outputId": "88d4671a-a84b-4ae0-a35f-8deac68da58c"
      },
      "execution_count": null,
      "outputs": [
        {
          "output_type": "stream",
          "name": "stderr",
          "text": [
            "/usr/local/lib/python3.10/dist-packages/sklearn/base.py:439: UserWarning: X does not have valid feature names, but IsolationForest was fitted with feature names\n",
            "  warnings.warn(\n"
          ]
        },
        {
          "output_type": "stream",
          "name": "stdout",
          "text": [
            "0    20346\n",
            "1      214\n",
            "Name: count, dtype: int64\n"
          ]
        }
      ]
    }
  ]
}