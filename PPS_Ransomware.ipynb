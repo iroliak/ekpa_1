import pandas as pd
import ppscore as pps
import seaborn as sns
import matplotlib.pyplot as plt

# Φορτώστε τα δεδομένα
data = pd.read_csv('https://github.com/kdemertzis/EKPA/blob/main/Data/Ransomware.csv', delimiter='|')

# Επιλέξτε μόνο αριθμητικά δεδομένα
numeric_data = data.select_dtypes(include=['int64', 'float64'])

# Υπολογίστε τον πίνακα PPS
pps_matrix = pps.matrix(numeric_data)

# Οπτικοποιήστε τον πίνακα PPS
plt.figure(figsize=(15, 15))
sns.heatmap(pps_matrix, annot=True, fmt=".2f", cmap="coolwarm")
plt.title("Predictive Power Score Matrix")
plt.show()
