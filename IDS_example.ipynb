{
  "nbformat": 4,
  "nbformat_minor": 0,
  "metadata": {
    "colab": {
      "provenance": [],
      "authorship_tag": "ABX9TyOs3QSU8Jd0O75zFAY2y/PR",
      "include_colab_link": true
    },
    "kernelspec": {
      "name": "python3",
      "display_name": "Python 3"
    },
    "language_info": {
      "name": "python"
    }
  },
  "cells": [
    {
      "cell_type": "markdown",
      "metadata": {
        "id": "view-in-github",
        "colab_type": "text"
      },
      "source": [
        "<a href=\"https://colab.research.google.com/github/iroliak/ekpa_1/blob/main/IDS_example.ipynb\" target=\"_parent\"><img src=\"https://colab.research.google.com/assets/colab-badge.svg\" alt=\"Open In Colab\"/></a>"
      ]
    },
    {
      "cell_type": "code",
      "execution_count": 1,
      "metadata": {
        "id": "BoZD0C8knQkX"
      },
      "outputs": [],
      "source": [
        "# Import necessary libraries\n",
        "import pandas as pd\n",
        "import numpy as np\n",
        "from sklearn.model_selection import train_test_split\n",
        "from sklearn.preprocessing import StandardScaler\n",
        "from tensorflow.keras.models import Sequential\n",
        "from tensorflow.keras.layers import Dense, Dropout\n",
        "from tensorflow.keras.callbacks import EarlyStopping\n",
        "from tensorflow.keras.utils import to_categorical"
      ]
    },
    {
      "cell_type": "code",
      "source": [
        "# Load data\n",
        "url = 'https://raw.githubusercontent.com/kdemertzis/EKPA/main/Data/pcap_data.csv'\n",
        "data = pd.read_csv(url)"
      ],
      "metadata": {
        "id": "-vTsKNqJnfKc"
      },
      "execution_count": 8,
      "outputs": []
    },
    {
      "cell_type": "code",
      "source": [
        "# Preprocessing\n",
        "X = data.drop('target', axis=1)\n",
        "y = data['target']\n",
        "y = to_categorical(y)  # One-hot encoding"
      ],
      "metadata": {
        "id": "49MYaSnPnj58"
      },
      "execution_count": 9,
      "outputs": []
    },
    {
      "cell_type": "code",
      "source": [
        "# Standardize features\n",
        "scaler = StandardScaler()\n",
        "X_scaled = scaler.fit_transform(X)"
      ],
      "metadata": {
        "id": "1SDlmxuYnoow"
      },
      "execution_count": 10,
      "outputs": []
    },
    {
      "cell_type": "code",
      "source": [
        "# Split the dataset\n",
        "X_train, X_test, y_train, y_test = train_test_split(X_scaled, y, test_size=0.2, random_state=42)"
      ],
      "metadata": {
        "id": "zHVM3a-gnsWo"
      },
      "execution_count": 11,
      "outputs": []
    },
    {
      "cell_type": "code",
      "source": [
        "# Build the model\n",
        "def build_model(input_dim, output_dim):\n",
        "    model = Sequential([\n",
        "        Dense(128, input_dim=input_dim, activation='relu'),\n",
        "        Dropout(0.5),\n",
        "        Dense(64, activation='relu'),\n",
        "        Dropout(0.5),\n",
        "        Dense(output_dim, activation='softmax')\n",
        "    ])\n",
        "    model.compile(optimizer='adam', loss='categorical_crossentropy', metrics=['accuracy'])\n",
        "    return model\n",
        "\n",
        "model = build_model(X_train.shape[1], y_train.shape[1])"
      ],
      "metadata": {
        "id": "dZhACfQSnvRt"
      },
      "execution_count": 12,
      "outputs": []
    },
    {
      "cell_type": "code",
      "source": [
        "# Train the model\n",
        "early_stopping = EarlyStopping(monitor='val_loss', patience=10, restore_best_weights=True)\n",
        "history = model.fit(X_train, y_train, validation_split=0.2, epochs=100, callbacks=[early_stopping], batch_size=32)"
      ],
      "metadata": {
        "colab": {
          "base_uri": "https://localhost:8080/"
        },
        "id": "huXHXmoCnyqJ",
        "outputId": "b423feef-5bfd-4f04-90a3-cc774c61cde4"
      },
      "execution_count": 13,
      "outputs": [
        {
          "output_type": "stream",
          "name": "stdout",
          "text": [
            "Epoch 1/100\n",
            "300/300 [==============================] - 2s 4ms/step - loss: 0.7772 - accuracy: 0.6705 - val_loss: 0.4672 - val_accuracy: 0.8727\n",
            "Epoch 2/100\n",
            "300/300 [==============================] - 1s 3ms/step - loss: 0.5550 - accuracy: 0.8200 - val_loss: 0.4135 - val_accuracy: 0.8839\n",
            "Epoch 3/100\n",
            "300/300 [==============================] - 1s 3ms/step - loss: 0.5101 - accuracy: 0.8503 - val_loss: 0.3881 - val_accuracy: 0.8952\n",
            "Epoch 4/100\n",
            "300/300 [==============================] - 1s 3ms/step - loss: 0.4822 - accuracy: 0.8605 - val_loss: 0.3733 - val_accuracy: 0.9010\n",
            "Epoch 5/100\n",
            "300/300 [==============================] - 1s 3ms/step - loss: 0.4601 - accuracy: 0.8702 - val_loss: 0.3646 - val_accuracy: 0.9065\n",
            "Epoch 6/100\n",
            "300/300 [==============================] - 1s 3ms/step - loss: 0.4465 - accuracy: 0.8818 - val_loss: 0.3545 - val_accuracy: 0.9094\n",
            "Epoch 7/100\n",
            "300/300 [==============================] - 1s 3ms/step - loss: 0.4365 - accuracy: 0.8857 - val_loss: 0.3526 - val_accuracy: 0.9115\n",
            "Epoch 8/100\n",
            "300/300 [==============================] - 1s 3ms/step - loss: 0.4340 - accuracy: 0.8895 - val_loss: 0.3506 - val_accuracy: 0.9119\n",
            "Epoch 9/100\n",
            "300/300 [==============================] - 1s 3ms/step - loss: 0.4325 - accuracy: 0.8917 - val_loss: 0.3539 - val_accuracy: 0.9111\n",
            "Epoch 10/100\n",
            "300/300 [==============================] - 1s 3ms/step - loss: 0.4157 - accuracy: 0.8952 - val_loss: 0.3490 - val_accuracy: 0.9106\n",
            "Epoch 11/100\n",
            "300/300 [==============================] - 1s 5ms/step - loss: 0.4027 - accuracy: 0.8972 - val_loss: 0.3396 - val_accuracy: 0.9148\n",
            "Epoch 12/100\n",
            "300/300 [==============================] - 1s 4ms/step - loss: 0.4002 - accuracy: 0.8992 - val_loss: 0.3364 - val_accuracy: 0.9177\n",
            "Epoch 13/100\n",
            "300/300 [==============================] - 1s 3ms/step - loss: 0.3957 - accuracy: 0.9012 - val_loss: 0.3371 - val_accuracy: 0.9144\n",
            "Epoch 14/100\n",
            "300/300 [==============================] - 1s 3ms/step - loss: 0.3970 - accuracy: 0.9027 - val_loss: 0.3347 - val_accuracy: 0.9148\n",
            "Epoch 15/100\n",
            "300/300 [==============================] - 1s 3ms/step - loss: 0.3977 - accuracy: 0.9028 - val_loss: 0.3376 - val_accuracy: 0.9140\n",
            "Epoch 16/100\n",
            "300/300 [==============================] - 1s 3ms/step - loss: 0.3901 - accuracy: 0.9063 - val_loss: 0.3342 - val_accuracy: 0.9169\n",
            "Epoch 17/100\n",
            "300/300 [==============================] - 1s 3ms/step - loss: 0.3944 - accuracy: 0.9046 - val_loss: 0.3323 - val_accuracy: 0.9165\n",
            "Epoch 18/100\n",
            "300/300 [==============================] - 1s 3ms/step - loss: 0.3859 - accuracy: 0.9063 - val_loss: 0.3271 - val_accuracy: 0.9186\n",
            "Epoch 19/100\n",
            "300/300 [==============================] - 1s 3ms/step - loss: 0.3835 - accuracy: 0.9073 - val_loss: 0.3297 - val_accuracy: 0.9198\n",
            "Epoch 20/100\n",
            "300/300 [==============================] - 1s 3ms/step - loss: 0.3827 - accuracy: 0.9081 - val_loss: 0.3267 - val_accuracy: 0.9182\n",
            "Epoch 21/100\n",
            "300/300 [==============================] - 1s 3ms/step - loss: 0.3835 - accuracy: 0.9070 - val_loss: 0.3287 - val_accuracy: 0.9198\n",
            "Epoch 22/100\n",
            "300/300 [==============================] - 1s 3ms/step - loss: 0.3735 - accuracy: 0.9087 - val_loss: 0.3296 - val_accuracy: 0.9173\n",
            "Epoch 23/100\n",
            "300/300 [==============================] - 1s 3ms/step - loss: 0.3708 - accuracy: 0.9084 - val_loss: 0.3240 - val_accuracy: 0.9198\n",
            "Epoch 24/100\n",
            "300/300 [==============================] - 1s 4ms/step - loss: 0.3764 - accuracy: 0.9099 - val_loss: 0.3268 - val_accuracy: 0.9219\n",
            "Epoch 25/100\n",
            "300/300 [==============================] - 1s 5ms/step - loss: 0.3669 - accuracy: 0.9076 - val_loss: 0.3243 - val_accuracy: 0.9219\n",
            "Epoch 26/100\n",
            "300/300 [==============================] - 1s 3ms/step - loss: 0.3652 - accuracy: 0.9086 - val_loss: 0.3227 - val_accuracy: 0.9211\n",
            "Epoch 27/100\n",
            "300/300 [==============================] - 1s 3ms/step - loss: 0.3623 - accuracy: 0.9115 - val_loss: 0.3230 - val_accuracy: 0.9203\n",
            "Epoch 28/100\n",
            "300/300 [==============================] - 1s 3ms/step - loss: 0.3634 - accuracy: 0.9119 - val_loss: 0.3227 - val_accuracy: 0.9219\n",
            "Epoch 29/100\n",
            "300/300 [==============================] - 1s 3ms/step - loss: 0.3593 - accuracy: 0.9117 - val_loss: 0.3213 - val_accuracy: 0.9203\n",
            "Epoch 30/100\n",
            "300/300 [==============================] - 1s 3ms/step - loss: 0.3545 - accuracy: 0.9130 - val_loss: 0.3234 - val_accuracy: 0.9211\n",
            "Epoch 31/100\n",
            "300/300 [==============================] - 1s 3ms/step - loss: 0.3613 - accuracy: 0.9133 - val_loss: 0.3212 - val_accuracy: 0.9211\n",
            "Epoch 32/100\n",
            "300/300 [==============================] - 1s 3ms/step - loss: 0.3572 - accuracy: 0.9116 - val_loss: 0.3210 - val_accuracy: 0.9228\n",
            "Epoch 33/100\n",
            "300/300 [==============================] - 1s 3ms/step - loss: 0.3531 - accuracy: 0.9114 - val_loss: 0.3217 - val_accuracy: 0.9207\n",
            "Epoch 34/100\n",
            "300/300 [==============================] - 1s 4ms/step - loss: 0.3512 - accuracy: 0.9126 - val_loss: 0.3163 - val_accuracy: 0.9240\n",
            "Epoch 35/100\n",
            "300/300 [==============================] - 1s 3ms/step - loss: 0.3512 - accuracy: 0.9127 - val_loss: 0.3219 - val_accuracy: 0.9219\n",
            "Epoch 36/100\n",
            "300/300 [==============================] - 1s 3ms/step - loss: 0.3483 - accuracy: 0.9118 - val_loss: 0.3192 - val_accuracy: 0.9215\n",
            "Epoch 37/100\n",
            "300/300 [==============================] - 1s 3ms/step - loss: 0.3488 - accuracy: 0.9130 - val_loss: 0.3213 - val_accuracy: 0.9223\n",
            "Epoch 38/100\n",
            "300/300 [==============================] - 1s 4ms/step - loss: 0.3460 - accuracy: 0.9115 - val_loss: 0.3230 - val_accuracy: 0.9232\n",
            "Epoch 39/100\n",
            "300/300 [==============================] - 1s 4ms/step - loss: 0.3439 - accuracy: 0.9145 - val_loss: 0.3212 - val_accuracy: 0.9215\n",
            "Epoch 40/100\n",
            "300/300 [==============================] - 1s 3ms/step - loss: 0.3452 - accuracy: 0.9124 - val_loss: 0.3200 - val_accuracy: 0.9236\n",
            "Epoch 41/100\n",
            "300/300 [==============================] - 1s 3ms/step - loss: 0.3397 - accuracy: 0.9136 - val_loss: 0.3209 - val_accuracy: 0.9240\n",
            "Epoch 42/100\n",
            "300/300 [==============================] - 1s 3ms/step - loss: 0.3438 - accuracy: 0.9143 - val_loss: 0.3177 - val_accuracy: 0.9236\n",
            "Epoch 43/100\n",
            "300/300 [==============================] - 1s 3ms/step - loss: 0.3389 - accuracy: 0.9141 - val_loss: 0.3209 - val_accuracy: 0.9253\n",
            "Epoch 44/100\n",
            "300/300 [==============================] - 1s 3ms/step - loss: 0.3432 - accuracy: 0.9152 - val_loss: 0.3181 - val_accuracy: 0.9257\n"
          ]
        }
      ]
    },
    {
      "cell_type": "code",
      "source": [
        "# Evaluate the model\n",
        "evaluation = model.evaluate(X_test, y_test)\n",
        "print(f\"Test Accuracy: {evaluation[1]*100:.2f}%\")"
      ],
      "metadata": {
        "colab": {
          "base_uri": "https://localhost:8080/"
        },
        "id": "yIjTsdwAn0oD",
        "outputId": "02e5539a-9683-4e1e-a03f-de5d72a24dd9"
      },
      "execution_count": 14,
      "outputs": [
        {
          "output_type": "stream",
          "name": "stdout",
          "text": [
            "94/94 [==============================] - 0s 2ms/step - loss: 0.3493 - accuracy: 0.9155\n",
            "Test Accuracy: 91.55%\n"
          ]
        }
      ]
    },
    {
      "cell_type": "code",
      "source": [
        "# Generate a report\n",
        "print(\"## Intrusion Detection System Report\")\n",
        "print(\"Model Structure and Performance:\")\n",
        "print(f\"- Input Layer: {X_train.shape[1]} features\")\n",
        "print(f\"- Two Hidden Layers with 128 and 64 neurons, both with ReLU activation and dropout of 0.5\")\n",
        "print(f\"- Output Layer: {y_train.shape[1]} classes (Softmax activation)\")\n",
        "print(f\"Test Accuracy: {evaluation[1]*100:.2f}%\")"
      ],
      "metadata": {
        "colab": {
          "base_uri": "https://localhost:8080/"
        },
        "id": "fuIax55Jn3W3",
        "outputId": "8e0bf930-d001-4055-b6f4-63e6e6da28bb"
      },
      "execution_count": 19,
      "outputs": [
        {
          "output_type": "stream",
          "name": "stdout",
          "text": [
            "## Intrusion Detection System Report\n",
            "Model Structure and Performance:\n",
            "- Input Layer: 25 features\n",
            "- Two Hidden Layers with 128 and 64 neurons, both with ReLU activation and dropout of 0.5\n",
            "- Output Layer: 3 classes (Softmax activation)\n",
            "Test Accuracy: 91.55%\n"
          ]
        }
      ]
    }
  ]
}